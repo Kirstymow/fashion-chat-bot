{
 "cells": [
  {
   "cell_type": "code",
   "execution_count": null,
   "id": "94406caa",
   "metadata": {},
   "outputs": [
    {
     "name": "stdout",
     "output_type": "stream",
     "text": [
      "Requirement already satisfied: ipywidgets in c:\\users\\kirst\\appdata\\local\\programs\\python\\python313\\lib\\site-packages (8.1.5)\n",
      "Requirement already satisfied: comm>=0.1.3 in c:\\users\\kirst\\appdata\\roaming\\python\\python313\\site-packages (from ipywidgets) (0.2.2)\n",
      "Requirement already satisfied: ipython>=6.1.0 in c:\\users\\kirst\\appdata\\roaming\\python\\python313\\site-packages (from ipywidgets) (8.32.0)\n",
      "Requirement already satisfied: traitlets>=4.3.1 in c:\\users\\kirst\\appdata\\roaming\\python\\python313\\site-packages (from ipywidgets) (5.14.3)\n",
      "Requirement already satisfied: widgetsnbextension~=4.0.12 in c:\\users\\kirst\\appdata\\local\\programs\\python\\python313\\lib\\site-packages (from ipywidgets) (4.0.13)\n",
      "Requirement already satisfied: jupyterlab-widgets~=3.0.12 in c:\\users\\kirst\\appdata\\local\\programs\\python\\python313\\lib\\site-packages (from ipywidgets) (3.0.13)\n",
      "Requirement already satisfied: colorama in c:\\users\\kirst\\appdata\\roaming\\python\\python313\\site-packages (from ipython>=6.1.0->ipywidgets) (0.4.6)\n",
      "Requirement already satisfied: decorator in c:\\users\\kirst\\appdata\\roaming\\python\\python313\\site-packages (from ipython>=6.1.0->ipywidgets) (5.2.1)\n",
      "Requirement already satisfied: jedi>=0.16 in c:\\users\\kirst\\appdata\\roaming\\python\\python313\\site-packages (from ipython>=6.1.0->ipywidgets) (0.19.2)\n",
      "Requirement already satisfied: matplotlib-inline in c:\\users\\kirst\\appdata\\roaming\\python\\python313\\site-packages (from ipython>=6.1.0->ipywidgets) (0.1.7)\n",
      "Requirement already satisfied: prompt_toolkit<3.1.0,>=3.0.41 in c:\\users\\kirst\\appdata\\roaming\\python\\python313\\site-packages (from ipython>=6.1.0->ipywidgets) (3.0.50)\n",
      "Requirement already satisfied: pygments>=2.4.0 in c:\\users\\kirst\\appdata\\roaming\\python\\python313\\site-packages (from ipython>=6.1.0->ipywidgets) (2.19.1)\n",
      "Requirement already satisfied: stack_data in c:\\users\\kirst\\appdata\\roaming\\python\\python313\\site-packages (from ipython>=6.1.0->ipywidgets) (0.6.3)\n",
      "Requirement already satisfied: parso<0.9.0,>=0.8.4 in c:\\users\\kirst\\appdata\\roaming\\python\\python313\\site-packages (from jedi>=0.16->ipython>=6.1.0->ipywidgets) (0.8.4)\n",
      "Requirement already satisfied: wcwidth in c:\\users\\kirst\\appdata\\roaming\\python\\python313\\site-packages (from prompt_toolkit<3.1.0,>=3.0.41->ipython>=6.1.0->ipywidgets) (0.2.13)\n",
      "Requirement already satisfied: executing>=1.2.0 in c:\\users\\kirst\\appdata\\roaming\\python\\python313\\site-packages (from stack_data->ipython>=6.1.0->ipywidgets) (2.2.0)\n",
      "Requirement already satisfied: asttokens>=2.1.0 in c:\\users\\kirst\\appdata\\roaming\\python\\python313\\site-packages (from stack_data->ipython>=6.1.0->ipywidgets) (3.0.0)\n",
      "Requirement already satisfied: pure-eval in c:\\users\\kirst\\appdata\\roaming\\python\\python313\\site-packages (from stack_data->ipython>=6.1.0->ipywidgets) (0.2.3)\n"
     ]
    }
   ],
   "source": [
    "!pip install ipywidgets\n"
   ]
  },
  {
   "cell_type": "code",
   "execution_count": null,
   "id": "d9d15d19",
   "metadata": {},
   "outputs": [],
   "source": [
    "# Ipywidgets tutorial  https://ipywidgets.readthedocs.io/en/8.1.2/examples/Widget%20Basics.html https://saturncloud.io/blog/understanding-jupyter-notebook-widgets/  https://github.com/jupyter-widgets/ipywidgets/blob/main/docs/source/examples/Index.ipynb \n",
    "# Emojis https://www.webfx.com/tools/emoji-cheat-sheet/ https://sawanrai777.medium.com/have-fun-with-emojis-in-jupyter-notebook-f74db7f45210 \n",
    "# Sassy responses - I made up my own emojis for this notebook. Just for fun and watching drag race. \n",
    "# Chatbot tutorial https://towardsdatascience.com/building-a-simple-chatbot-with-python-using-nltk-and-scikit-learn-1f2a0b3c4d5e\n",
    "# Chatbot tutorial time & random https://www.geeksforgeeks.org/python-time-module/ https://www.geeksforgeeks.org/python-random-randint-function/\n",
    "# Chatbot tutorial - https://www.geeksforgeeks.org/python-chatbot-project/\n",
    "\n"
   ]
  },
  {
   "cell_type": "code",
   "execution_count": 2,
   "id": "bc0b9a6d",
   "metadata": {},
   "outputs": [
    {
     "data": {
      "application/vnd.jupyter.widget-view+json": {
       "model_id": "20848970e8a74b98b465f6c3a78ec6cd",
       "version_major": 2,
       "version_minor": 0
      },
      "text/plain": [
       "Dropdown(description='Mood:', options=('happy', 'sad', 'angry', 'chill', 'energetic', 'romantic'), value='happ…"
      ]
     },
     "metadata": {},
     "output_type": "display_data"
    },
    {
     "data": {
      "application/vnd.jupyter.widget-view+json": {
       "model_id": "a181d93edad04b3dac4ad8964bad852a",
       "version_major": 2,
       "version_minor": 0
      },
      "text/plain": [
       "Dropdown(description='Genre:', options=('pop', 'rock', 'r&b', 'electronic', 'indie'), value='pop')"
      ]
     },
     "metadata": {},
     "output_type": "display_data"
    },
    {
     "data": {
      "application/vnd.jupyter.widget-view+json": {
       "model_id": "8bb1d32d04714dc586d6b7c7c7e1ae38",
       "version_major": 2,
       "version_minor": 0
      },
      "text/plain": [
       "Text(value='', description='Color:', placeholder='Enter your color')"
      ]
     },
     "metadata": {},
     "output_type": "display_data"
    },
    {
     "data": {
      "application/vnd.jupyter.widget-view+json": {
       "model_id": "dae531217fcb400885f07bd61a3bdca5",
       "version_major": 2,
       "version_minor": 0
      },
      "text/plain": [
       "Button(description='Get Advice!', style=ButtonStyle())"
      ]
     },
     "metadata": {},
     "output_type": "display_data"
    },
    {
     "data": {
      "application/vnd.jupyter.widget-view+json": {
       "model_id": "562076ded3e24ebaa2cebf46fafa7ec9",
       "version_major": 2,
       "version_minor": 0
      },
      "text/plain": [
       "Output()"
      ]
     },
     "metadata": {},
     "output_type": "display_data"
    }
   ],
   "source": [
    "import random\n",
    "import time\n",
    "import ipywidgets as widgets\n",
    "from IPython.display import display, clear_output\n",
    "\n",
    "class FashionMoodBot:\n",
    "    def __init__(self):\n",
    "        self.sassy_responses = [\n",
    "            \"Oh honey, you’re feeling '{mood}'? Let me fix that with {genre} music and {color} style.\",\n",
    "            \"The audacity of your '{mood}' mood... don’t worry, {genre} and {color} will save you.\",\n",
    "            \"Not you being '{mood}'... anyway, here’s {genre} and {color} to slay.\",\n",
    "            \"If you're '{mood}', you should wear {color} and listen to {genre}. That'll turn things around.\",\n",
    "            \"Honey, you look '{mood}', so you need {color} and {genre} to complete the vibe.\",\n",
    "            \"Oh, you picked '{genre}'? Now let me tell you, your '{mood}' mood needs {color}.\",\n",
    "            \"This quiz confirms it: you’re '{mood}' today, so wear {color} and listen to {genre}. No regrets.\"\n",
    "        ]\n",
    "        \n",
    "        self.mood_art = {\n",
    "            'happy': \"\"\"\n",
    "            🌈✨\n",
    "            (◕‿◕✿)  \n",
    "            ╰(＾3＾)╯  \n",
    "            SUNSHINE MODE  \n",
    "            \"\"\",\n",
    "            'sad': \"\"\"\n",
    "            🌧️･ﾟ･  \n",
    "            (╥_╥)  \n",
    "            ＿|￣|○  \n",
    "            *plays Adele*  \n",
    "            \"\"\",\n",
    "            'angry': \"\"\"\n",
    "            💢⚡  \n",
    "            (╬ Ò﹏Ó)  \n",
    "            ┻━┻ ︵ヽ(`Д´)ﾉ︵ ┻━┻  \n",
    "            CHILL. NOW.  \n",
    "            \"\"\",\n",
    "            'chill': \"\"\"\n",
    "            🛋️  \n",
    "            ( ˘ω˘ )☕  \n",
    "            ～(つˆДˆ)つ｡☆  \n",
    "            VIBING AT -10 SPEED  \n",
    "            \"\"\",\n",
    "            'energetic': \"\"\"\n",
    "            ⚡🌟  \n",
    "            (ﾉ◕ヮ◕)ﾉ*:･ﾟ✧  \n",
    "            ┗(＾0＾)┓  \n",
    "            RED BULL MODE  \n",
    "            \"\"\",\n",
    "            'romantic': \"\"\"\n",
    "            🌹🌙  \n",
    "            (´∀｀)♡  \n",
    "            ～(^з^)-☆  \n",
    "            HEARTS IN EYES  \n",
    "            \"\"\"\n",
    "        }\n",
    "\n",
    "    def greet_user(self):\n",
    "        greetings = [\n",
    "            \"Hey, how are you doing today, darling?\",\n",
    "            \"Hey, what’s up? How’s your mood?\",\n",
    "            \"Oh, hey there! What’s the vibe today?\",\n",
    "            \"Well, well, well, look who’s here. How are you feeling?\",\n",
    "            \"Hi! How’s everything going today?\",\n",
    "            \"Hey girl! What’s your vibe today?\",\n",
    "            \"Hey slaybot, ready for some fun?\"\n",
    "        ]\n",
    "        \n",
    "        return random.choice(greetings)\n",
    "\n",
    "    def get_fashion_advice(self, mood, genre, color):\n",
    "        response = random.choice(self.sassy_responses)\n",
    "        return response.format(mood=mood, genre=genre, color=color)\n",
    "\n",
    "    def get_mood_art(self, mood):\n",
    "        return self.mood_art.get(mood, \"I don't know that mood!\")\n",
    "\n",
    "    def analyze_style(self, mood):\n",
    "        style_map = {\n",
    "            'happy': {'color': 'bright yellow', 'accessory': 'hoop earrings'},\n",
    "            'sad': {'color': 'soft lavender', 'accessory': 'a cozy scarf'},\n",
    "            'angry': {'color': 'fire red', 'accessory': 'leather jacket'},\n",
    "            'chill': {'color': 'sage green', 'accessory': 'oversized hoodie'},\n",
    "            'energetic': {'color': 'neon pink', 'accessory': 'sneakers'},\n",
    "            'romantic': {'color': 'deep rose', 'accessory': 'silver necklace'}\n",
    "        }\n",
    "        style = style_map.get(mood, {'color': 'black', 'accessory': 'sunglasses'})\n",
    "        \n",
    "        display(f\"\\n✨ **STYLE DIAGNOSIS** ✨\")\n",
    "        display(f\"Your {mood} mood demands:\")\n",
    "        display(f\"- Color: {style['color'].upper()}\")\n",
    "        display(f\"- Must-have: {style['accessory'].upper()}\")\n",
    "        display(f\"- Music genre: {random.choice(self.mood_art[mood]).upper()}\")\n",
    "        display(\"\\nNow go manifest this look, or don’t. I’m a bot, not a cop.\")\n",
    "\n",
    "    def ask_quiz(self):\n",
    "        # Widgets for user input\n",
    "        mood_dropdown = widgets.Dropdown(\n",
    "            options=['happy', 'sad', 'angry', 'chill', 'energetic', 'romantic'],\n",
    "            description='Mood:',\n",
    "        )\n",
    "        genre_dropdown = widgets.Dropdown(\n",
    "            options=['pop', 'rock', 'r&b', 'electronic', 'indie'],\n",
    "            description='Genre:',\n",
    "        )\n",
    "        color_text = widgets.Text(\n",
    "            value='',\n",
    "            description='Color:',\n",
    "            placeholder='Enter your color',\n",
    "        )\n",
    "\n",
    "        button = widgets.Button(description=\"Get Advice!\")\n",
    "        output = widgets.Output()\n",
    "\n",
    "        def on_button_click(b):\n",
    "            with output:\n",
    "                mood_answer = mood_dropdown.value\n",
    "                genre_answer = genre_dropdown.value\n",
    "                color_answer = color_text.value\n",
    "                display(f\"\\nYou chose {mood_answer} as your mood, {genre_answer} as your music genre, and {color_answer} as your color.\")\n",
    "                \n",
    "                # Displaying mood art and fashion advice\n",
    "                mood_art = self.get_mood_art(mood_answer)\n",
    "                display(f\"\\nMood Art: {mood_art}\\n\")\n",
    "                \n",
    "                fashion_advice = self.get_fashion_advice(mood_answer, genre_answer, color_answer)\n",
    "                display(f\"\\nFashion Advice: {fashion_advice}\\n\")\n",
    "                \n",
    "                # Analyze style\n",
    "                self.analyze_style(mood_answer)\n",
    "\n",
    "        button.on_click(on_button_click)\n",
    "        display(mood_dropdown, genre_dropdown, color_text, button, output)\n",
    "\n",
    "def run():\n",
    "    bot = FashionMoodBot()\n",
    "    bot.greet_user()\n",
    "    bot.ask_quiz()\n",
    "\n",
    "run()\n"
   ]
  }
 ],
 "metadata": {
  "kernelspec": {
   "display_name": "Python 3",
   "language": "python",
   "name": "python3"
  },
  "language_info": {
   "codemirror_mode": {
    "name": "ipython",
    "version": 3
   },
   "file_extension": ".py",
   "mimetype": "text/x-python",
   "name": "python",
   "nbconvert_exporter": "python",
   "pygments_lexer": "ipython3",
   "version": "3.13.2"
  }
 },
 "nbformat": 4,
 "nbformat_minor": 5
}
